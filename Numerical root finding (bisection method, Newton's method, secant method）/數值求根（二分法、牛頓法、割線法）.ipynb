{
 "cells": [
  {
   "cell_type": "code",
   "execution_count": 9,
   "id": "002e107b",
   "metadata": {},
   "outputs": [],
   "source": [
    "import math\n",
    "import warnings\n",
    "from math import*\n",
    "from sqlalchemy import create_engine\n",
    "import numpy as np\n",
    "import pandas\n",
    "import pandas as pd\n",
    "import pickle\n",
    "import random\n",
    "import numpy as np\n",
    "import matplotlib.pyplot as plt\n",
    "import seaborn as sns\n",
    "import datetime\n",
    "import scipy.io as scio\n",
    "from scipy.stats import norm\n",
    "from sklearn.model_selection import train_test_split\n",
    "from sklearn.linear_model import LinearRegression\n",
    "from datetime import datetime, date, timedelta"
   ]
  },
  {
   "cell_type": "markdown",
   "id": "165472ab",
   "metadata": {},
   "source": [
    "1.(二分法)設α是方程x=3/(1+x4)的唯一根。找出一個含有α的區間[a, b]，使得對分法在該區間上收斂於α；並在5×10-8的精度內，用二分法求α。"
   ]
  },
  {
   "cell_type": "code",
   "execution_count": 2,
   "id": "058fb811",
   "metadata": {},
   "outputs": [
    {
     "name": "stdout",
     "output_type": "stream",
     "text": [
      "解在[ 0.0 , 100 ]之间\n",
      "解在[ 0.0 , 50.0 ]之间\n",
      "解在[ 0.0 , 25.0 ]之间\n",
      "解在[ 0.0 , 12.5 ]之间\n",
      "解在[ 0.0 , 6.25 ]之间\n",
      "解在[ 0.0 , 3.125 ]之间\n",
      "解在[ 0.0 , 1.5625 ]之间\n",
      "解在[ 0.78125 , 1.5625 ]之间\n",
      "解在[ 0.78125 , 1.171875 ]之间\n",
      "解在[ 0.9765625 , 1.171875 ]之间\n",
      "解在[ 1.07421875 , 1.171875 ]之间\n",
      "解在[ 1.123046875 , 1.171875 ]之间\n",
      "解在[ 1.123046875 , 1.1474609375 ]之间\n",
      "解在[ 1.123046875 , 1.13525390625 ]之间\n",
      "解在[ 1.129150390625 , 1.13525390625 ]之间\n",
      "解在[ 1.1322021484375 , 1.13525390625 ]之间\n",
      "解在[ 1.1322021484375 , 1.13372802734375 ]之间\n",
      "解在[ 1.132965087890625 , 1.13372802734375 ]之间\n",
      "解在[ 1.132965087890625 , 1.1333465576171875 ]之间\n",
      "解在[ 1.132965087890625 , 1.1331558227539062 ]之间\n",
      "解在[ 1.132965087890625 , 1.1330604553222656 ]之间\n",
      "解在[ 1.132965087890625 , 1.1330127716064453 ]之间\n",
      "解在[ 1.1329889297485352 , 1.1330127716064453 ]之间\n",
      "解在[ 1.1329889297485352 , 1.1330008506774902 ]之间\n",
      "解在[ 1.1329948902130127 , 1.1330008506774902 ]之间\n",
      "解在[ 1.1329948902130127 , 1.1329978704452515 ]之间\n",
      "解在[ 1.132996380329132 , 1.1329978704452515 ]之间\n",
      "解在[ 1.1329971253871918 , 1.1329978704452515 ]之间\n",
      "解在[ 1.1329974979162216 , 1.1329978704452515 ]之间\n",
      "解在[ 1.1329974979162216 , 1.1329976841807365 ]之间\n",
      "解在[ 1.1329974979162216 , 1.132997591048479 ]之间\n",
      "方程的根为 1.1329975444823503\n"
     ]
    },
    {
     "data": {
      "text/plain": [
       "1.1329975444823503"
      ]
     },
     "execution_count": 2,
     "metadata": {},
     "output_type": "execute_result"
    }
   ],
   "source": [
    "def myfun_rootfinding_bisection(a,b):\n",
    "    fa = fun(a)\n",
    "    fb = fun(b)\n",
    "    while a <= b:\n",
    "        c = (a + b) / 2\n",
    "        fc = fun(c)\n",
    "        if abs(b-c) < 5*10**(-8):#小于误差容限即为根\n",
    "            print(\"方程的根为\", c)\n",
    "            break\n",
    "        if fa * fc < 0:#左半边\n",
    "            a = a\n",
    "            b = c\n",
    "            fb = fun(b)\n",
    "            print(\"解在[\", a, \",\", b, \"]之间\")\n",
    "        elif fb * fc < 0:\n",
    "            a = c\n",
    "            b = b\n",
    "            fa = fun(a)\n",
    "            print(\"解在[\", a, \",\", b, \"]之间\")\n",
    "    return c\n",
    "def fun(x):\n",
    "    return x**5+x-3\n",
    "a = -100\n",
    "b = 100\n",
    "myfun_rootfinding_bisection(a, b)\n"
   ]
  },
  {
   "cell_type": "code",
   "execution_count": null,
   "id": "1b4fbecd",
   "metadata": {},
   "outputs": [],
   "source": [
    "2. (牛頓法)利用牛頓法在[1, 1.2]中尋找如下方程\n",
    "x4-5.4x3+10.56x2-8.954x+2.7951=0的根。"
   ]
  },
  {
   "cell_type": "code",
   "execution_count": 3,
   "id": "a4fe1326",
   "metadata": {},
   "outputs": [
    {
     "name": "stdout",
     "output_type": "stream",
     "text": [
      "1.1016450182401438 9\n"
     ]
    }
   ],
   "source": [
    "def f(x):\n",
    "    return x**4-5.4*x**3+10.56*x**2-8.954*x+2.79510\n",
    "\n",
    "def df(x):\n",
    "    return 4*x**3-16.2*x**2+21.12*x-8.954\n",
    "\n",
    "def phi(x):\n",
    "    return x-f(x)/df(x)\n",
    "\n",
    "e= 10e-4\n",
    "N=5000\n",
    "x0=1.2\n",
    "iter=0\n",
    "x1=phi(x0)\n",
    "\n",
    "while abs(x1-x0)>e and iter<N:\n",
    "    iter+=1\n",
    "    x0=x1\n",
    "    x1=phi(x0)\n",
    "    if iter==N:\n",
    "        print('迭代次数超出了上限')\n",
    "        break\n",
    "\n",
    "print(x1,iter)\n"
   ]
  },
  {
   "cell_type": "code",
   "execution_count": null,
   "id": "8f425f7f",
   "metadata": {},
   "outputs": [],
   "source": [
    "3.（割線法）用割線法求方程x3+2x2+10x-20=0的根，要求|xk+1-xk|<10-6。"
   ]
  },
  {
   "cell_type": "code",
   "execution_count": 4,
   "id": "8343ad44",
   "metadata": {},
   "outputs": [
    {
     "name": "stdout",
     "output_type": "stream",
     "text": [
      "1.3688081078326166 4\n"
     ]
    }
   ],
   "source": [
    "def fun(x):\n",
    "    return x**3+2*x**2+10*x-20\n",
    "x0=2\n",
    "x1=1\n",
    "f0=fun(x0)\n",
    "f1=fun(x1)#计算F1f0\n",
    "x2=x1-f1/((f1-f0)/(x1-x0))\n",
    "iter=0\n",
    "N=5000\n",
    "while abs(x2-x1)>5*10**-6 and iter<N:\n",
    "    iter+=1\n",
    "    x0=x1\n",
    "    f0=f1\n",
    "    x1=x2\n",
    "    f1=fun(x1)\n",
    "    x2=x1-f1/((f1-f0)/(x1-x0))\n",
    "print(x2,iter)\n"
   ]
  },
  {
   "cell_type": "code",
   "execution_count": null,
   "id": "77fbf3c8",
   "metadata": {},
   "outputs": [],
   "source": [
    "4. (綜合題)請利用提供的成交明細數據計算交易時間間隔。交易時間間隔定義為連續兩次交易之間的等待時間，即\n",
    "τi=ti-ti-1\n",
    "其中τi表示第i個交易時間間隔，ti表示第i次交易的發生時刻，ti-1表示第i-1次交易的發生時刻。交易時間間隔是股票交易活躍性的一種度量，與股票價格變化有密切關係[1-3]。短的交易時間間隔，說明市場交易活躍，市場價格變化較大；而長的交易時間間隔，說明市場交易不活躍，市場價格變化較小。\n",
    "Nobel Prize winner in economics Engle, 最先提出 Autoregressive Conditional Duration (ACD) model to simulate the transaction time interval sequence [4].自此，交易時間間隔的概率分佈和記憶性開始受到研究者的關注。根據文獻報道[5-6]，股票交易時間間隔τ可以用q指數分佈來擬合。現已知q指數分佈的概率密度函數為\n",
    "p(τ)=μ[1+(1-q)(-μτ)](q/(1-q))\n",
    "現用極大似然估計法出q指數分佈的參數μ和q。提示：設β= -1/(1-q)，θ=μ/β，將q指數分佈改寫為p(τ)=θβ(1+θτ)-(1+β)，然後用極大似然估計參數 θ 和 β ，進而再求解 μ 和 q 。\n",
    "用極大似然估計法估計參數 θ 和 β 時，先寫出求解 θ 的方程，然後用二分法估計 θ。\n",
    "注意事項：\n",
    "(a)不考慮跨天和跨午間休市的交易時間間隔。\n",
    "(b)交易時間間隔為0的數據要去掉。\n",
    "(c)二分法求解的時候，需自己確定包含0點的區間，求根精度為10-6。"
   ]
  },
  {
   "cell_type": "code",
   "execution_count": 14,
   "id": "be737fe8",
   "metadata": {},
   "outputs": [
    {
     "name": "stdout",
     "output_type": "stream",
     "text": [
      "Number of time intervals: 0\n",
      "Delta time: []\n"
     ]
    },
    {
     "ename": "TypeError",
     "evalue": "can't multiply sequence by non-int of type 'numpy.float64'",
     "output_type": "error",
     "traceback": [
      "\u001b[1;31m---------------------------------------------------------------------------\u001b[0m",
      "\u001b[1;31mTypeError\u001b[0m                                 Traceback (most recent call last)",
      "Cell \u001b[1;32mIn[14], line 50\u001b[0m\n\u001b[0;32m     48\u001b[0m \u001b[38;5;66;03m# Calculate y values for theta\u001b[39;00m\n\u001b[0;32m     49\u001b[0m \u001b[38;5;28;01mfor\u001b[39;00m m \u001b[38;5;129;01min\u001b[39;00m x:\n\u001b[1;32m---> 50\u001b[0m     y\u001b[38;5;241m.\u001b[39mappend((m, \u001b[43mmy_equation\u001b[49m\u001b[43m(\u001b[49m\u001b[43mm\u001b[49m\u001b[43m,\u001b[49m\u001b[43m \u001b[49m\u001b[43mdelta_time\u001b[49m\u001b[43m)\u001b[49m))\n\u001b[0;32m     52\u001b[0m \u001b[38;5;66;03m# Bisection method for root finding\u001b[39;00m\n\u001b[0;32m     53\u001b[0m \u001b[38;5;28;01mdef\u001b[39;00m \u001b[38;5;21mmyfun_rootfinding_bisection\u001b[39m(a, b, e):\n",
      "Cell \u001b[1;32mIn[14], line 45\u001b[0m, in \u001b[0;36mmy_equation\u001b[1;34m(theta, delta_time)\u001b[0m\n\u001b[0;32m     43\u001b[0m \u001b[38;5;28;01mdef\u001b[39;00m \u001b[38;5;21mmy_equation\u001b[39m(theta, delta_time):\n\u001b[0;32m     44\u001b[0m     n \u001b[38;5;241m=\u001b[39m \u001b[38;5;28mlen\u001b[39m(delta_time)\n\u001b[1;32m---> 45\u001b[0m     f \u001b[38;5;241m=\u001b[39m n\u001b[38;5;241m/\u001b[39mtheta \u001b[38;5;241m-\u001b[39m (\u001b[38;5;241m1\u001b[39m \u001b[38;5;241m+\u001b[39m n\u001b[38;5;241m/\u001b[39mnp\u001b[38;5;241m.\u001b[39msum(np\u001b[38;5;241m.\u001b[39mlog(\u001b[38;5;241m1\u001b[39m \u001b[38;5;241m+\u001b[39m \u001b[43mtheta\u001b[49m\u001b[43m \u001b[49m\u001b[38;5;241;43m*\u001b[39;49m\u001b[43m \u001b[49m\u001b[43mdelta_time\u001b[49m)) \u001b[38;5;241m*\u001b[39m np\u001b[38;5;241m.\u001b[39msum(delta_time \u001b[38;5;241m/\u001b[39m (\u001b[38;5;241m1\u001b[39m \u001b[38;5;241m+\u001b[39m theta \u001b[38;5;241m*\u001b[39m delta_time)))\n\u001b[0;32m     46\u001b[0m     \u001b[38;5;28;01mreturn\u001b[39;00m f\n",
      "\u001b[1;31mTypeError\u001b[0m: can't multiply sequence by non-int of type 'numpy.float64'"
     ]
    }
   ],
   "source": [
    "date_range=pd.date_range(start='2012-12-01',end='2012-12-31',freq='D')\n",
    "delta_time=[]\n",
    "for day in date_range:\n",
    "    if os.path.exists('20211026_Python-实验数据_600000_201212/600000_'+str(day)[:10]+'.txt'):\n",
    "        data=pd.read_table('20211026_Python-实验数据_600000_201212/600000_'+str(day)[:10]+'.txt',encoding='gb2312',sep=',')\n",
    "        data.columns=data.columns.str.strip()\n",
    "        trading_time=pd.to_datetime(data['成交时间'],format='%H:%M:%S')\n",
    "\n",
    "        ind_morning=(trading_time>=pd.to_datetime('09:30:00',format='%H:%M:%S'))&(trading_time<=pd.to_datetime('11:30:00',format='%H:%M:%S'))\n",
    "        trading_time_morning=trading_time[ind_morning]\n",
    "        delta_time_morning=(trading_time_morning.iloc[0:-1].values - trading_time_morning.iloc[1:].values)/np.timedelta64(1,'s')\n",
    "\n",
    "        ind_afternoon=(trading_time>=pd.to_datetime('13:00:00',format='%H:%M:%S'))&(trading_time<=pd.to_datetime('15:00:00',format='%H:%M:%S'))\n",
    "        trading_time_afternoon=trading_time[ind_afternoon]\n",
    "        delta_time_afternoon=(trading_time_afternoon.iloc[0:-1].values - trading_time_afternoon.iloc[1:].values)/np.timedelta64(1,'s')\n",
    "\n",
    "        delta_time_day=np.concatenate((delta_time_morning,delta_time_afternoon),axis=0)\n",
    "        if len(delta_time)==0:\n",
    "            delta_time=delta_time_day\n",
    "        else:\n",
    "            delta_time=np.concatenate((delta_time,delta_time_day),axis=0)\n",
    "print(len(delta_time))\n",
    "print(delta_time)\n",
    "print(data)\n",
    "\n",
    "\n",
    "#plt.plot(delta_time)\n",
    "x=np.arange(0.00001,1,0.01)\n",
    "y=[]\n",
    "def my_equatation(theta,delta_time):\n",
    "    n=len(delta_time)\n",
    "    f=n/theta-(1+n/np.sum(np.log((1+theta*delta_time)))*np.sum(delta_time/1+theta*delta_time))\n",
    "    return f\n",
    "for m in x:\n",
    "    y.append((m,delta_time))\n",
    "print(y)\n",
    "\n",
    "def myfun_rootfinding_bisection(a,b,e):\n",
    "    c = (a + b) / 2\n",
    "    sign_fc=np.sign(my_equatation(c,delta_time))\n",
    "    sign_fb=np.sign(my_equatation(b,delta_time))\n",
    "    sign_fa = np.sign(my_equatation(a, delta_time))\n",
    "    while b-c>e:\n",
    "        if sign_fb*sign_fc<=0:\n",
    "            a=c\n",
    "            sign_fa=sign_fc\n",
    "        else:\n",
    "            b=c\n",
    "            sign_fb=sign_fc\n",
    "        c = (a + b) / 2\n",
    "        sign_fc =np.sign(my_equatation(c,delta_time))\n",
    "    root=c\n",
    "    return root\n",
    "print(myfun_rootfinding_bisection(0.00001,0.1,10**(-6)))\n",
    "n=len(delta_time)\n",
    "theta=myfun_rootfinding_bisection(0.00001,0.1,10**(-6))\n",
    "beta=n/np.sum(np.log(1+theta*delta_time))\n",
    "print(beta)\n",
    "q=1/beta+1\n",
    "miu=beta*theta\n",
    "print(\"The parameter $q$ is {:.3f})\".format(q))\n",
    "print(\"The parameter $\\mu$  is {:.3f})\".format(miu)）\n"
   ]
  },
  {
   "cell_type": "code",
   "execution_count": null,
   "id": "6ec17acc",
   "metadata": {},
   "outputs": [],
   "source": [
    "5. 請畫圖展示交易時間間隔的經驗概率分佈和 q 指數分佈的擬合結果（見下圖）。\n",
    "經驗概率分佈計算：將分析樣本覆蓋的範圍分成若干區間，即 [τ0, τ1)∪[τ1, τ2)∪[τ2, τ3) ∪[τ3, τ5) ∪…∪[τi-1, τi) ∪ …∪[τn-1，τn]，再分別計算出樣本個數 yi 內的每個間隔，進而計算概率 pi=yi/(τi-τi-1)/m ，其中 m 為樣本總數。畫圖時，區間概率 pi 對應 τi 可用區間的中點表示。為了使經驗概率分佈圖形美觀，若畫圖使用線性坐標（x軸），可線性均分樣本範圍；若畫圖使用對數坐標（x軸），可對數等分樣本範圍。分割的份數自主選擇，一般以畫圖美觀為準。\n",
    "請寫出Python程序，文件名為\n",
    "myfun_Homework_6_5_ FigureFitqExp_JRXXX_YourStudentNumber_YourName.py\n",
    "程序運行後，能在當前路徑下輸出一張eps格式的圖片，文件名為\n",
    "myfun_Homework_6_5_ FigureFitqExp_JRXXX_YourStudentNumber_YourName.eps\n",
    "圖片內容要求：\n",
    "1. 經驗概率密度在圖上用黑色的方形標記表示，標記大小為11；同時q指數分佈的擬合結果，顏色為紅，線寬為2；在圖形右上角給出相應的圖例，具體內容見上圖，文字大小為25，字體為 times new roman，數學變數為斜體。注意：legend不得遮掩圖內其他信息。\n",
    "2. 橫坐標軸名是τ，縱坐標名為p(τ)，字體為 times new roman，字體大小為36。\n",
    "3. 橫坐標軸標記：請根據自己的實際情況調整，字體為 times new roman，字體大小為30。\n",
    "4. 縱坐標軸標記：請根據自己的實際情況標記，字體為 times new roman，字體大小為30。"
   ]
  },
  {
   "cell_type": "code",
   "execution_count": 12,
   "id": "0029efb1",
   "metadata": {},
   "outputs": [
    {
     "name": "stdout",
     "output_type": "stream",
     "text": [
      "Max: 246.72173415012932 Min: 1.3805292809005998\n"
     ]
    },
    {
     "data": {
      "image/png": "[encoded data removed]",
      "text/plain": [
       "<Figure size 640x480 with 1 Axes>"
      ]
     },
     "metadata": {},
     "output_type": "display_data"
    }
   ],
   "source": [
    "import numpy as np\n",
    "import matplotlib.pyplot as plt\n",
    "import matplotlib as lt\n",
    "from datetime import datetime, date, timedelta\n",
    "\n",
    "np.random.seed(42)  # For reproducibility\n",
    "delta_time = np.random.rand(100) * 250  # 100 random values between 0 and 250\n",
    "\n",
    "# Sort the delta_time\n",
    "delta_time.sort()\n",
    "print(\"Max:\", max(delta_time), \"Min:\", min(delta_time))\n",
    "\n",
    "# Calculate max and min using numpy\n",
    "max_val = np.max(delta_time)\n",
    "min_val = np.min(delta_time)\n",
    "\n",
    "# Calculate gap\n",
    "gap = (max_val - min_val) / 10\n",
    "\n",
    "# Create intervals\n",
    "intervals = {'%f-%f' % (min_val + gap * x, min_val + gap * (x + 1)): 0 for x in range(10)}\n",
    "\n",
    "# Example variables for p calculation (you need to define miu and q)\n",
    "miu = 1.0  # example value\n",
    "q = 0.5    # example value\n",
    "n = len(delta_time)\n",
    "\n",
    "# Calculate p\n",
    "p = miu * (1 + (1 - q) * (-miu * delta_time)) ** (q / (1 - q))\n",
    "p2 = []\n",
    "\n",
    "# Populate p2 based on intervals\n",
    "for i in intervals:\n",
    "    p2.append(intervals[i] / gap * (1 / n))\n",
    "\n",
    "# Calculate t for plotting\n",
    "t = []\n",
    "block = gap  # Use gap as block size in this context\n",
    "for i in range(len(intervals)):\n",
    "    t.append(min_val + (block * (i + 1 / 2)))\n",
    "\n",
    "# Plotting\n",
    "plt.figure(2)\n",
    "lt.rcParams.update({\"font.family\": \"STIXGeneral\",\n",
    "                    \"font.size\": 20,\n",
    "                    \"mathtext.fontset\": \"cm\"})\n",
    "plt.axes([.2, .52, .7, .4])\n",
    "plt.plot(delta_time, p, 'sk', lw=11, label='Empirical PDF')\n",
    "plt.plot(t, p2, '-r', lw=2, label='Fit q-exp')\n",
    "plt.xticks(ticks=np.arange(0, 250.1, 50), fontsize=30)\n",
    "plt.yticks(ticks=np.arange(0.01, 0.091, 0.02), fontsize=30)\n",
    "plt.ylabel(r'$p(\\tau)$', fontsize=36)\n",
    "plt.xlabel(r'$\\tau$', fontsize=36)\n",
    "plt.legend()\n",
    "plt.show()"
   ]
  },
  {
   "cell_type": "code",
   "execution_count": null,
   "id": "380d53d2",
   "metadata": {},
   "outputs": [],
   "source": []
  }
 ],
 "metadata": {
  "kernelspec": {
   "display_name": "Python 3 (ipykernel)",
   "language": "python",
   "name": "python3"
  },
  "language_info": {
   "codemirror_mode": {
    "name": "ipython",
    "version": 3
   },
   "file_extension": ".py",
   "mimetype": "text/x-python",
   "name": "python",
   "nbconvert_exporter": "python",
   "pygments_lexer": "ipython3",
   "version": "3.10.9"
  }
 },
 "nbformat": 4,
 "nbformat_minor": 5
}
