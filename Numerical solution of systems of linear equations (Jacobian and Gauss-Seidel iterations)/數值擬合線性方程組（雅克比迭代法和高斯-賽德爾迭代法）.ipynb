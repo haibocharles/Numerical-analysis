{
 "cells": [
  {
   "cell_type": "code",
   "execution_count": 1,
   "id": "fe40960f",
   "metadata": {},
   "outputs": [],
   "source": [
    "import warnings\n",
    "from math import*\n",
    "from sqlalchemy import create_engine\n",
    "import numpy as np\n",
    "import pandas as pd\n",
    "import time\n",
    "import pickle\n",
    "import random\n",
    "import matplotlib.pyplot as plt\n",
    "import seaborn as sns\n",
    "import datetime\n",
    "import scipy.io as scio\n",
    "from scipy.stats import norm\n",
    "import statsmodels.api as sm"
   ]
  },
  {
   "cell_type": "markdown",
   "id": "f9463827",
   "metadata": {},
   "source": [
    "1. 試用雅克比迭代法解如下線性方程組。\n",
    " \n"
   ]
  },
  {
   "cell_type": "code",
   "execution_count": 2,
   "id": "edfe5e93",
   "metadata": {},
   "outputs": [
    {
     "name": "stdout",
     "output_type": "stream",
     "text": [
      "[[ 1.47619048]\n",
      " [-2.3015873 ]\n",
      " [ 1.52380952]]\n",
      "[[ 1.05820106]\n",
      " [-2.        ]\n",
      " [ 2.01814059]]\n",
      "[[ 0.99395314]\n",
      " [-2.02544722]\n",
      " [ 1.99168556]]\n",
      "[[ 0.99428907]\n",
      " [-1.9952129 ]\n",
      " [ 2.00813447]]\n",
      "[[ 0.99888421]\n",
      " [-2.00080785]\n",
      " [ 1.9994481 ]]\n",
      "[[ 0.99991468]\n",
      " [-1.9994441 ]\n",
      " [ 2.00039021]]\n",
      "[[ 1.00005523]\n",
      " [-2.00010163]\n",
      " [ 1.99985336]]\n",
      "[[ 1.00005523]\n",
      " [-2.00010163]\n",
      " [ 1.99985336]]\n"
     ]
    }
   ],
   "source": [
    "\n",
    "A=np.array([[3,-1,1],[1,3,1],[1,2,7]])\n",
    "b=np.array([[7],[-3],[11]])\n",
    "x0=np.array([[0],[0],[0]])\n",
    "eps=10**-3\n",
    "M=1000\n",
    "def Jacob(A,b,x0,eps,M):\n",
    "    N=np.diag(np.diag(A))\n",
    "    P=N-A\n",
    "    invN=np.linalg.inv(N)#N-1\n",
    "    invNb=np.dot(invN,b)#b\n",
    "    invNP=np.dot(invN,P)#M\n",
    "    x=invNb+np.dot(invNP,x0)\n",
    "    n=1\n",
    "    while np.max(np.abs(x-x0))>=eps:\n",
    "        x0=x\n",
    "        x=invNb+np.dot(invNP,x0)\n",
    "        n=n+1\n",
    "        print(x)\n",
    "        if n>=M:\n",
    "            print(\"迭代次数太多\")\n",
    "            break\n",
    "    root=x\n",
    "    return root\n",
    "root=Jacob(A,b,x0,eps,M)\n",
    "print(root)"
   ]
  },
  {
   "cell_type": "markdown",
   "id": "b9dd3626",
   "metadata": {},
   "source": [
    "2. 試用高斯—賽德爾迭代法求解第1題中的線性方程組。"
   ]
  },
  {
   "cell_type": "code",
   "execution_count": 3,
   "id": "ff412dc4",
   "metadata": {},
   "outputs": [
    {
     "name": "stdout",
     "output_type": "stream",
     "text": [
      "[[ 1.15873016]\n",
      " [-1.96825397]\n",
      " [ 1.96825397]]\n",
      "[[ 1.02116402]\n",
      " [-1.99647266]\n",
      " [ 1.99596876]]\n",
      "[[ 1.00251953]\n",
      " [-1.99949609]\n",
      " [ 1.99949609]]\n",
      "[[ 1.00033594]\n",
      " [-1.99994401]\n",
      " [ 1.99993601]]\n",
      "[[ 1.00003999]\n",
      " [-1.999992  ]\n",
      " [ 1.999992  ]]\n",
      "[[ 1.00003999]\n",
      " [-1.999992  ]\n",
      " [ 1.999992  ]]\n"
     ]
    }
   ],
   "source": [
    "def Guessseidei(A,b,x0,eps,M):\n",
    "    N=np.tril(A)#A下三角\n",
    "    P=N-A#计算P矩阵\n",
    "    invN=np.linalg.inv(N)\n",
    "    invNb=np.dot(invN,b)\n",
    "    invNP=np.dot(invN,P)\n",
    "    x=invNb+np.dot(invNP,x0)\n",
    "    n=1#迭代此时\n",
    "    while np.max(np.abs(x-x0))>=eps:\n",
    "        x0=x\n",
    "        x=invNb+np.dot(invNP,x0)\n",
    "        n=n+1\n",
    "        print(x)\n",
    "        if n>=M:\n",
    "            print('迭代次数太多')\n",
    "            break\n",
    "    root=x\n",
    "    return x\n",
    "root=Guessseidei(A,b,x0,eps,M)\n",
    "print(root)"
   ]
  },
  {
   "cell_type": "markdown",
   "id": "10ae8249",
   "metadata": {},
   "source": [
    "3. 請從銳思資料庫下載上證能源、上證資料、上證醫藥指數月數據，同時下載月三因子數據，建構中國股市的三因子模型，利用兩種迭代法估計三因子模型的參數。"
   ]
  },
  {
   "cell_type": "code",
   "execution_count": 4,
   "id": "11698a0d",
   "metadata": {},
   "outputs": [
    {
     "name": "stdout",
     "output_type": "stream",
     "text": [
      "[[ 0.00125222]\n",
      " [ 1.18183108]\n",
      " [-0.02903433]\n",
      " [-0.16979507]]\n",
      "[[ 0.00125335]\n",
      " [ 1.18181537]\n",
      " [-0.02884673]\n",
      " [-0.16968545]]\n"
     ]
    }
   ],
   "source": [
    "data=pd.read_excel(\"股票三因子9.xls\")\n",
    "X1=data['市场指数'] #自变量1市场指数\n",
    "X2 = data['上证材料指数月收益率_IdxMonRet'] #自变量2组合1\n",
    "X3 = data['上证能源月收益率'] #自变量3组合2\n",
    "X4 = data['上证医药月收益率'] #自变量4组合3\n",
    "X5 =data['无风险利率']#自变量6无风险利率\n",
    "X6 = data['市值因子__流通市值加权_Smb_tmv']#自变量7SMB\n",
    "X7 = data['账面市值比因子__流通市值加权_Hml_tmv']#自变量8HML\n",
    "Y = data['上证材料指数月收益率_IdxMonRet']-data['无风险利率'] #因变量ri-rf\n",
    "Y1 = data['上证能源月收益率']-data['无风险利率'] #因变量ri-rf\n",
    "Y2 = data['上证医药月收益率']-data['无风险利率']#因变量ri-rf\n",
    "K=X1-X5\n",
    "data['rm-rf']=K\n",
    "y=np.sum(Y)\n",
    "x1y=np.sum(K*Y)\n",
    "x2y=np.sum(X6*Y)\n",
    "x3y=np.sum(X7*Y)\n",
    "n=len(X1)\n",
    "x1=np.sum(K)\n",
    "x2=np.sum(X6)\n",
    "x3=np.sum(X7)\n",
    "X11=np.sum(K**2)\n",
    "X12=np.sum(K*X6)\n",
    "X13=np.sum(K*X7)\n",
    "X22=np.sum(X6**2)\n",
    "X23=np.sum(X6*X7)\n",
    "X33=np.sum(X7**2)\n",
    "A=np.array([[n],[x1],[x2],[x3]])\n",
    "B=np.array([[x1],[X11],[X12],[X13]])\n",
    "C=np.array([[x2], [X12], [X22], [X23]])\n",
    "D=np.array([[x3], [X13], [X23], [X33]])\n",
    "H=np.array([[y], [x1y], [x2y], [x3y]])\n",
    "E=np.hstack((A,B))\n",
    "F =np.hstack((E, C))\n",
    "G=np.hstack((F, D))\n",
    "x0=np.array([[0],[0],[0],[0]])\n",
    "eps=10**-3\n",
    "M=1000\n",
    "def Guessseidei(H,G,x0,eps,M):\n",
    "    N=np.tril(G)#A下三角\n",
    "    P=N-G#计算P矩阵\n",
    "    invN=np.linalg.inv(N)\n",
    "    invNH=np.dot(invN,H)\n",
    "    invNP=np.dot(invN,P)\n",
    "    x=invNH+np.dot(invNP,x0)\n",
    "    n=1#迭代此时\n",
    "    while np.max(np.abs(x-x0))>=eps:\n",
    "        x0=x\n",
    "        x=invNH+np.dot(invNP,x0)\n",
    "        n=n+1\n",
    "        if n>=M:\n",
    "            print('迭代次数太多')\n",
    "            break\n",
    "    root=x\n",
    "    return x\n",
    "root=Guessseidei(H,G,x0,eps,M)\n",
    "print(root)\n",
    "\n",
    "\n",
    "def Jacob(G,H,x0,eps,M):\n",
    "    N=np.diag(np.diag(G))\n",
    "    P=N-G\n",
    "    invN=np.linalg.inv(N)#N-1\n",
    "    invNb=np.dot(invN,H)#b\n",
    "    invNP=np.dot(invN,P)#M\n",
    "    x=invNb+np.dot(invNP,x0)\n",
    "    n=1\n",
    "    while np.max(np.abs(x-x0))>=eps:\n",
    "        x0=x\n",
    "        x=invNb+np.dot(invNP,x0)\n",
    "        n=n+1\n",
    "        if n>=M:\n",
    "            print(\"迭代次数太多\")\n",
    "            break\n",
    "    root=x\n",
    "    return root\n",
    "root=Jacob(G,H,x0,eps,M)\n",
    "print(root)"
   ]
  },
  {
   "cell_type": "code",
   "execution_count": null,
   "id": "7879b3f2",
   "metadata": {},
   "outputs": [],
   "source": []
  }
 ],
 "metadata": {
  "kernelspec": {
   "display_name": "Python 3 (ipykernel)",
   "language": "python",
   "name": "python3"
  },
  "language_info": {
   "codemirror_mode": {
    "name": "ipython",
    "version": 3
   },
   "file_extension": ".py",
   "mimetype": "text/x-python",
   "name": "python",
   "nbconvert_exporter": "python",
   "pygments_lexer": "ipython3",
   "version": "3.10.9"
  }
 },
 "nbformat": 4,
 "nbformat_minor": 5
}
